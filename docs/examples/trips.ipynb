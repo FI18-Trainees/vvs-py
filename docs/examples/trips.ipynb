{
 "cells": [
  {
   "cell_type": "code",
   "execution_count": null,
   "metadata": {},
   "outputs": [],
   "source": [
    "from vvspy import get_trips\n",
    "\n",
    "\"\"\"\n",
    "Check connections between two stations and alarm on delay.\n",
    "\n",
    "Note that there are destination.delay and origin.delay.\n",
    "origin.delay => departure delay on first station\n",
    "destination.delay => arrival delay on the final station\n",
    "\"\"\"\n",
    "\n",
    "station_1 = 5006118  # Stuttgart main station\n",
    "station_2 = 5001303  # Weil der Stadt\n",
    "\n",
    "result = get_trips(station_1, station_2)\n",
    "\n",
    "for res in result:\n",
    "    if res.connections[0].destination.delay > 0:\n",
    "        print(\n",
    "            f\"{res.connections[0].transportation.number} is too late!\"\n",
    "            f\" Now arriving {res.connections[0].destination.arrival_time_estimated}\"\n",
    "        )\n"
   ]
  }
 ],
 "metadata": {
  "kernelspec": {
   "display_name": "Python 3.10.7 ('vvspy-Xbu-SscJ-py3.10')",
   "language": "python",
   "name": "python3"
  },
  "language_info": {
   "name": "python",
   "version": "3.10.7"
  },
  "orig_nbformat": 4,
  "vscode": {
   "interpreter": {
    "hash": "d45f6f4c8a6053de576d1dba4cbcd8a028d63b89254c8343927d5c5e7e056de2"
   }
  }
 },
 "nbformat": 4,
 "nbformat_minor": 2
}
