{
 "cells": [
  {
   "cell_type": "code",
   "execution_count": null,
   "metadata": {},
   "outputs": [],
   "source": [
    "from vvspy import get_departures\n",
    "\n",
    "\"\"\"\n",
    "Get specific data about incoming departure \n",
    "and e.g. display them on a monitor\n",
    "\"\"\"\n",
    "\n",
    "station = 5001303  # Weil der Stadt\n",
    "\n",
    "result = get_departures(station, limit=10)\n",
    "\n",
    "for res in result:\n",
    "    symbol = res.serving_line.number\n",
    "    aiming_for_station = res.serving_line.direction\n",
    "    real_time_data = res.serving_line.real_time\n",
    "    departure_at = res.real_datetime.strftime()\n",
    "    platform = res.platform_name\n",
    "    # do_something()\n"
   ]
  }
 ],
 "metadata": {
  "kernelspec": {
   "display_name": "Python 3.10.7 ('vvspy-Xbu-SscJ-py3.10')",
   "language": "python",
   "name": "python3"
  },
  "language_info": {
   "name": "python",
   "version": "3.10.7"
  },
  "orig_nbformat": 4,
  "vscode": {
   "interpreter": {
    "hash": "d45f6f4c8a6053de576d1dba4cbcd8a028d63b89254c8343927d5c5e7e056de2"
   }
  }
 },
 "nbformat": 4,
 "nbformat_minor": 2
}
